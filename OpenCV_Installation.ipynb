{
  "nbformat": 4,
  "nbformat_minor": 0,
  "metadata": {
    "colab": {
      "provenance": [],
      "authorship_tag": "ABX9TyP/fuj5I11OjuMOcnZXXPe2",
      "include_colab_link": true
    },
    "kernelspec": {
      "name": "python3",
      "display_name": "Python 3"
    },
    "language_info": {
      "name": "python"
    }
  },
  "cells": [
    {
      "cell_type": "markdown",
      "metadata": {
        "id": "view-in-github",
        "colab_type": "text"
      },
      "source": [
        "<a href=\"https://colab.research.google.com/github/mohith789p/Nvidia/blob/main/OpenCV_Installation.ipynb\" target=\"_parent\"><img src=\"https://colab.research.google.com/assets/colab-badge.svg\" alt=\"Open In Colab\"/></a>"
      ]
    },
    {
      "cell_type": "markdown",
      "source": [
        "### 📦 1. Install Python Tools and Create a Virtual Environment\n",
        "\n",
        "To isolate OpenCV and its dependencies, we use a **Python virtual environment**. This avoids conflicts with system Python packages and is a good practice for development.\n",
        "\n",
        "---\n",
        "\n",
        "#### 🔧 Steps:\n",
        "1. **Install `pip3`**, the package manager for Python 3.\n",
        "2. **Install `virtualenv`**, which lets us create isolated Python environments.\n",
        "3. **Create the virtual environment** named `env`, using the system’s site packages.\n",
        "4. **Activate the environment**.\n",
        "5. **Verify that OpenCV is installed later** by importing it.\n",
        "\n",
        "> ✅ These steps ensure a clean and modular setup.\n"
      ],
      "metadata": {
        "id": "C7gPHYpvvbkX"
      }
    },
    {
      "cell_type": "code",
      "source": [
        "sudo apt-get install python3-pip\n",
        "pip3 install virtualenv\n",
        "python3 -m virtualenv -p python3 env --system-site-packages\n",
        "source env/bin/activate\n",
        "python -c 'import cv2; print(cv2.__version__)'"
      ],
      "metadata": {
        "id": "UlPpTb3V0s5x"
      },
      "execution_count": null,
      "outputs": []
    },
    {
      "cell_type": "markdown",
      "source": [
        "### 🧠 2. Create Swap File (Important for Jetson Nano)\n",
        "\n",
        "Jetson Nano has limited RAM (~4GB), and building OpenCV requires more memory. We add a 4GB swap file to avoid memory errors during compilation.\n",
        "\n",
        "---\n",
        "\n",
        "#### 🧱 Steps:\n",
        "1. Allocate a 4GB swap file.\n",
        "2. Set permissions so only root can access it.\n",
        "3. Format it as swap space.\n",
        "4. Enable it immediately with `swapon`.\n",
        "5. Make it **persist after reboot** by adding an entry to `/etc/fstab`.\n",
        "\n",
        "> ⚠️ Without this, the OpenCV build may fail with memory-related errors."
      ],
      "metadata": {
        "id": "JusiQWfLxb4r"
      }
    },
    {
      "cell_type": "code",
      "source": [
        "sudo fallocate -l 4G /var/swapfile\n",
        "sudo chmod 600 /var/swapfile\n",
        "sudo mkswap /var/swapfile\n",
        "sudo swapon /var/swapfile\n",
        "sudo bash -c 'echo \"/var/swapfile swap swap defaults 0 0\"  >> /etc/fstab'"
      ],
      "metadata": {
        "id": "lgXo-05zxacd"
      },
      "execution_count": null,
      "outputs": []
    },
    {
      "cell_type": "markdown",
      "source": [
        "### 🔄 3. Reboot and Check Swap Space\n",
        "\n",
        "After enabling the swap file, reboot your Jetson Nano and verify that the swap is active.\n",
        "\n",
        "---\n",
        "\n",
        "#### ✅ Check with `free -h`:\n",
        "This will show you the available memory and swap. You should now see ~4GB of swap space listed."
      ],
      "metadata": {
        "id": "LwrrXxe2xp0n"
      }
    },
    {
      "cell_type": "code",
      "source": [
        "sudo reboot\n",
        "# After reboot\n",
        "free -h"
      ],
      "metadata": {
        "id": "4aZVwSbsxu1t"
      },
      "execution_count": null,
      "outputs": []
    },
    {
      "cell_type": "markdown",
      "source": [
        "### 🧩 4. Install OpenCV Dependencies\n",
        "\n",
        "Before building OpenCV, we must install a set of essential system packages. These include tools and libraries for:\n",
        "\n",
        "- **Building software** (`cmake`, `build-essential`, `git`)\n",
        "- **Image and video I/O** (`libjpeg`, `libpng`, `libtiff`, `libavcodec`, `libswscale`, etc.)\n",
        "- **GUI support** (`libgtk`, `libcanberra-gtk*`)\n",
        "- **Python bindings** (`python3-dev`, `numpy`, etc.)\n",
        "- **Video and camera support** (`libv4l`, `gstreamer`)\n",
        "- **Math acceleration** (`OpenBLAS`, `ATLAS`, `Eigen`, `LAPACK`)\n",
        "- **HDF5 and protobuf support** (used in OpenCV's DNN module)\n",
        "\n",
        "> 🛠️ These dependencies ensure OpenCV can interface with media files, perform hardware acceleration, and use cameras or DNNs."
      ],
      "metadata": {
        "id": "EFxK0j3gx3jg"
      }
    },
    {
      "cell_type": "code",
      "source": [
        "# Add CUDA library path (specific for Jetson Nano)\n",
        "sudo sh -c \"echo '/usr/local/cuda/lib64' >> /etc/ld.so.conf.d/nvidia-tegra.conf\"\n",
        "sudo ldconfig\n",
        "\n",
        "# Core build tools\n",
        "sudo apt-get install build-essential cmake git unzip pkg-config\n",
        "\n",
        "# Image I/O\n",
        "sudo apt-get install libjpeg-dev libpng-dev libtiff-dev\n",
        "\n",
        "# Video I/O\n",
        "sudo apt-get install libavcodec-dev libavformat-dev libswscale-dev\n",
        "\n",
        "# GUI support\n",
        "sudo apt-get install libgtk2.0-dev libcanberra-gtk*\n",
        "\n",
        "# Python support\n",
        "sudo apt-get install python3-dev python3-numpy python3-pip\n",
        "\n",
        "# Codec and GUI extras\n",
        "sudo apt-get install libxvidcore-dev libx264-dev libgtk-3-dev\n",
        "\n",
        "# Parallelism and threading\n",
        "sudo apt-get install libtbb2 libtbb-dev libdc1394-22-dev\n",
        "\n",
        "# Video capturing and streaming\n",
        "sudo apt-get install libv4l-dev v4l-utils\n",
        "sudo apt-get install libgstreamer1.0-dev libgstreamer-plugins-base1.0-dev\n",
        "\n",
        "# Audio and codec support\n",
        "sudo apt-get install libavresample-dev libvorbis-dev libxine2-dev\n",
        "sudo apt-get install libfaac-dev libmp3lame-dev libtheora-dev\n",
        "sudo apt-get install libopencore-amrnb-dev libopencore-amrwb-dev\n",
        "\n",
        "# Math libraries\n",
        "sudo apt-get install libopenblas-dev libatlas-base-dev libblas-dev\n",
        "sudo apt-get install liblapack-dev libeigen3-dev gfortran\n",
        "\n",
        "# Miscellaneous\n",
        "sudo apt-get install libhdf5-dev protobuf-compiler\n",
        "sudo apt-get install libprotobuf-dev libgoogle-glog-dev libgflags-dev"
      ],
      "metadata": {
        "id": "jLMkp6fqx82S"
      },
      "execution_count": null,
      "outputs": []
    },
    {
      "cell_type": "markdown",
      "source": [
        "### 📥 5. Download OpenCV Source Code and Extra Modules\n",
        "\n",
        "Now we’ll download the OpenCV source code (v4.5.1) and the `opencv_contrib` modules. These contrib modules include extra features such as:\n",
        "\n",
        "- DNN models\n",
        "- xfeatures2d (SIFT, SURF)\n",
        "- Face and text modules\n",
        "\n",
        "---\n",
        "\n",
        "After downloading, we:\n",
        "1. Unzip the folders.\n",
        "2. Rename them for convenience.\n",
        "3. Remove the zip files to clean up.\n",
        "\n",
        "> 📦 Always match the version of `opencv_contrib` with the OpenCV version."
      ],
      "metadata": {
        "id": "Yqt0BXaYyAGo"
      }
    },
    {
      "cell_type": "code",
      "source": [
        "cd ~\n",
        "wget -O opencv.zip https://github.com/opencv/opencv/archive/4.5.1.zip\n",
        "wget -O opencv_contrib.zip https://github.com/opencv/opencv_contrib/archive/4.5.1.zip\n",
        "unzip opencv.zip\n",
        "unzip opencv_contrib.zip\n",
        "\n",
        "# Rename directories\n",
        "mv opencv-4.5.1 opencv\n",
        "mv opencv_contrib-4.5.1 opencv_contrib\n",
        "\n",
        "# Cleanup zip files\n",
        "rm opencv.zip\n",
        "rm opencv_contrib.zip"
      ],
      "metadata": {
        "id": "pHhvwNF1yCt0"
      },
      "execution_count": null,
      "outputs": []
    },
    {
      "cell_type": "markdown",
      "source": [
        "### 🏗️ 6. Configure OpenCV Build with CMake\n",
        "\n",
        "This step prepares the OpenCV build configuration.\n",
        "\n",
        "We use `cmake` with many flags:\n",
        "- `WITH_CUDA=ON`, `WITH_CUDNN=ON`: Enable GPU acceleration.\n",
        "- `WITH_TBB=ON`: Multithreading with Intel TBB.\n",
        "- `WITH_GSTREAMER=ON`: Video streaming support.\n",
        "- `OPENCV_EXTRA_MODULES_PATH`: Adds contrib modules.\n",
        "- `BUILD_opencv_python3=TRUE`: Ensures Python 3 bindings are built.\n",
        "- `WITH_OPENGL=ON`, `WITH_V4L=ON`, etc.: Enable camera, GUI, and acceleration features.\n",
        "\n",
        "> 🚧 This sets up the compilation pipeline for a Jetson-optimized OpenCV build."
      ],
      "metadata": {
        "id": "rFmMdJnmyFbf"
      }
    },
    {
      "cell_type": "code",
      "source": [
        "cd ~/opencv\n",
        "mkdir build\n",
        "cd build\n",
        "\n",
        "cmake -D CMAKE_BUILD_TYPE=RELEASE -D CMAKE_INSTALL_PREFIX=/usr -D OPENCV_EXTRA_MODULES_PATH=~/opencv_contrib/modules -D EIGEN_INCLUDE_PATH=/usr/include/eigen3 -D WITH_OPENCL=OFF -D WITH_CUDA=ON -D CUDA_ARCH_BIN=5.3 -D CUDA_ARCH_PTX=\"\" -D WITH_CUDNN=ON -D WITH_CUBLAS=ON -D ENABLE_FAST_MATH=ON -D CUDA_FAST_MATH=ON -D OPENCV_DNN_CUDA=ON -D ENABLE_NEON=ON -D WITH_QT=OFF -D WITH_OPENMP=ON -D WITH_OPENGL=ON -D BUILD_TIFF=ON -D WITH_FFMPEG=ON -D WITH_GSTREAMER=ON -D WITH_TBB=ON -D BUILD_TBB=ON -D BUILD_TESTS=OFF -D WITH_EIGEN=ON -D WITH_V4L=ON -D WITH_LIBV4L=ON -D OPENCV_ENABLE_NONFREE=ON -D INSTALL_C_EXAMPLES=OFF -D INSTALL_PYTHON_EXAMPLES=OFF -D BUILD_NEW_PYTHON_SUPPORT=ON -D BUILD_opencv_python3=TRUE -D OPENCV_GENERATE_PKGCONFIG=ON -D BUILD_EXAMPLES=OFF ..\n"
      ],
      "metadata": {
        "id": "hCE39MMpyGld"
      },
      "execution_count": null,
      "outputs": []
    },
    {
      "cell_type": "markdown",
      "source": [
        "### ⚙️ 7. Build and Install OpenCV\n",
        "\n",
        "Now compile OpenCV. This can take **1.5 to 2 hours** on Jetson Nano.\n",
        "\n",
        "---\n",
        "\n",
        "#### Notes:\n",
        "- Use `make -j4` to compile using 4 threads.\n",
        "- After build, install OpenCV to system directories.\n",
        "- Remove conflicting headers (important for compatibility).\n",
        "- Finally, clean up the build files and update shared libraries.\n",
        "\n",
        "> 💡 Don't interrupt this step. Use a fan or heat sink to keep Nano cool."
      ],
      "metadata": {
        "id": "EzdpsGlJyPt0"
      }
    },
    {
      "cell_type": "code",
      "source": [
        "# Compile\n",
        "make -j4\n",
        "\n",
        "# Install\n",
        "cd ~\n",
        "sudo rm -r /usr/include/opencv4/opencv2\n",
        "cd ~/opencv/build\n",
        "sudo make install\n",
        "sudo ldconfig\n",
        "make clean\n",
        "sudo apt-get update"
      ],
      "metadata": {
        "id": "-56svxIqyRTZ"
      },
      "execution_count": null,
      "outputs": []
    },
    {
      "cell_type": "markdown",
      "source": [
        "### ✅ 8. Verify OpenCV Installation\n",
        "\n",
        "Check if OpenCV was successfully installed by importing it in Python.\n",
        "\n",
        "---\n",
        "\n",
        "You should see the version number printed without any errors."
      ],
      "metadata": {
        "id": "t3ud9gAAyUTj"
      }
    },
    {
      "cell_type": "code",
      "source": [
        "import cv2\n",
        "print(cv2.__version__)"
      ],
      "metadata": {
        "id": "k39tmW8tyZSU"
      },
      "execution_count": null,
      "outputs": []
    },
    {
      "cell_type": "markdown",
      "source": [
        "### 📊 9. Install `jtop` for Jetson Monitoring\n",
        "\n",
        "`jtop` is like `htop`, but tailored for Jetson devices. It shows:\n",
        "\n",
        "- CPU and GPU usage\n",
        "- Memory, temperature, and power stats\n",
        "- Real-time monitoring of system health\n",
        "\n",
        "> 🚀 Essential during long builds like OpenCV or running deep learning models."
      ],
      "metadata": {
        "id": "WeEDGe2qzWls"
      }
    },
    {
      "cell_type": "code",
      "source": [
        "cd ~\n",
        "sudo -H pip3 install -U jetson-stats\n",
        "sudo reboot"
      ],
      "metadata": {
        "id": "X8CEQxG-zWPi"
      },
      "execution_count": null,
      "outputs": []
    },
    {
      "cell_type": "markdown",
      "source": [
        "> After reboot, you can start monitoring with:"
      ],
      "metadata": {
        "id": "9VFOAXoDzb9Z"
      }
    },
    {
      "cell_type": "code",
      "source": [
        "jtop"
      ],
      "metadata": {
        "id": "yfNQez4hzc3m"
      },
      "execution_count": null,
      "outputs": []
    },
    {
      "cell_type": "markdown",
      "source": [
        "### 📷 10. Test Camera on Jetson Nano\n",
        "\n",
        "Verify that your CSI or USB camera is working using NVIDIA's `nvgstcapture-1.0` tool.\n",
        "\n",
        "---\n",
        "\n",
        "#### Detect Camera Devices:"
      ],
      "metadata": {
        "id": "bAgZiRd8zhzD"
      }
    },
    {
      "cell_type": "code",
      "source": [
        "ls /dev/video0       # CSI camera\n",
        "ls /dev/video*       # List all video devices\n",
        "\n",
        "# Capture Photo Using CSI Camera\n",
        "nvgstcapture-1.0 --orientation=2\n",
        "\n",
        "# Capture Photo Using USB Camera (V4L2)\n",
        "nvgstcapture-1.0 --camsrc=0 --cap-dev-node=1"
      ],
      "metadata": {
        "id": "KPi6D0-D0bHx"
      },
      "execution_count": null,
      "outputs": []
    },
    {
      "cell_type": "markdown",
      "source": [
        "## ✅ Recap: What We Achieved\n",
        "\n",
        "Here's a summary of the complete setup done on Jetson Nano:\n",
        "\n",
        "1. Installed Python tooling and created a virtual environment\n",
        "2. Added 4GB swap space to support large builds\n",
        "3. Installed all required OpenCV dependencies\n",
        "4. Downloaded OpenCV (v4.5.1) and contrib modules\n",
        "5. Configured the OpenCV build with CUDA, cuDNN, and hardware optimizations\n",
        "6. Compiled and installed OpenCV with Python bindings\n",
        "7. Verified installation using `cv2.__version__`\n",
        "8. Installed `jtop` for system monitoring\n",
        "9. Tested CSI/USB camera using NVIDIA tools\n",
        "\n",
        "> You're now ready to run OpenCV projects with GPU acceleration on Jetson Nano!"
      ],
      "metadata": {
        "id": "cfoA_1Xzz0qn"
      }
    }
  ]
}