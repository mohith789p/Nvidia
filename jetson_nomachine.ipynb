{
  "nbformat": 4,
  "nbformat_minor": 0,
  "metadata": {
    "colab": {
      "provenance": [],
      "authorship_tag": "ABX9TyNr5OoJc56U3y/KZnmO41On",
      "include_colab_link": true
    },
    "kernelspec": {
      "name": "python3",
      "display_name": "Python 3"
    },
    "language_info": {
      "name": "python"
    }
  },
  "cells": [
    {
      "cell_type": "markdown",
      "metadata": {
        "id": "view-in-github",
        "colab_type": "text"
      },
      "source": [
        "<a href=\"https://colab.research.google.com/github/mohith789p/Nvidia/blob/main/jetson_nomachine.ipynb\" target=\"_parent\"><img src=\"https://colab.research.google.com/assets/colab-badge.svg\" alt=\"Open In Colab\"/></a>"
      ]
    },
    {
      "cell_type": "markdown",
      "source": [
        "# 🔌 Remote Access to Jetson Nano using NoMachine\n",
        "\n",
        "This Colab notebook provides step-by-step guidance on how to:\n",
        "\n",
        "- Install NoMachine on Jetson Nano\n",
        "- Set up headless operation (no monitor needed)\n",
        "- Install and configure the XFCE desktop environment\n",
        "- Access Jetson Nano remotely using the NoMachine client\n",
        "\n",
        "> ⚠️ Note: These commands must be executed on your Jetson Nano (not in Colab).\n"
      ],
      "metadata": {
        "id": "W-kbPg7NO7Hx"
      }
    },
    {
      "cell_type": "markdown",
      "source": [
        "## 🛠️ Step 1: Download and Install NoMachine"
      ],
      "metadata": {
        "id": "QFIncaB0PBt3"
      }
    },
    {
      "cell_type": "code",
      "execution_count": null,
      "metadata": {
        "id": "oU9gEQ9In1Ax"
      },
      "outputs": [],
      "source": [
        "# Download the actual .deb package for ARMv8 (64-bit) - Latest version\n",
        "wget https://download.nomachine.com/download/8.11/Linux/nomachine_8.11.3_1_arm64.deb -O nomachine.deb\n",
        "\n",
        "# Install the package\n",
        "sudo dpkg -i nomachine.deb"
      ]
    },
    {
      "cell_type": "markdown",
      "source": [
        "## 🖥️ Step 2: Configure for Headless Mode (No Monitor)"
      ],
      "metadata": {
        "id": "Ev2zpl0MPF2J"
      }
    },
    {
      "cell_type": "code",
      "source": [
        "# Disable the GUI login manager (gdm3)\n",
        "sudo systemctl disable gdm3 --now\n",
        "\n",
        "# Set system to boot in headless mode\n",
        "sudo systemctl set-default multi-user.target\n",
        "\n",
        "# Restart NoMachine server to apply changes\n",
        "sudo /usr/NX/bin/nxserver --restart"
      ],
      "metadata": {
        "id": "xPqLjRrpPHbN"
      },
      "execution_count": null,
      "outputs": []
    },
    {
      "cell_type": "markdown",
      "source": [
        "## 🎨 Step 3: Install XFCE (Lightweight Desktop)"
      ],
      "metadata": {
        "id": "57MHrR48PJCs"
      }
    },
    {
      "cell_type": "code",
      "source": [
        "# Update package list and install xfce4\n",
        "sudo apt update\n",
        "sudo apt install xfce4"
      ],
      "metadata": {
        "id": "xNwhM9kXPLB3"
      },
      "execution_count": null,
      "outputs": []
    },
    {
      "cell_type": "markdown",
      "source": [
        "## ⚙️ Step 4: Set XFCE as Default in NoMachine"
      ],
      "metadata": {
        "id": "-PpYO-8aPMz_"
      }
    },
    {
      "cell_type": "code",
      "source": [
        "# Open the NoMachine node configuration file\n",
        "sudo nano /usr/NX/etc/node.cfg"
      ],
      "metadata": {
        "id": "2PrHruM0POwe"
      },
      "execution_count": null,
      "outputs": []
    },
    {
      "cell_type": "markdown",
      "source": [
        "### Inside `node.cfg`, modify the line:\n",
        "DefaultDesktopCommand \"/usr/bin/startxfce4\"\n",
        "\n",
        "> Save the file and exit (Ctrl+O, Enter, Ctrl+X)"
      ],
      "metadata": {
        "id": "zsXCJfWTPR4c"
      }
    },
    {
      "cell_type": "code",
      "source": [
        "# Restart NoMachine to apply XFCE configuration\n",
        "sudo /usr/NX/bin/nxserver --restart"
      ],
      "metadata": {
        "id": "38L5OElmPUA6"
      },
      "execution_count": null,
      "outputs": []
    },
    {
      "cell_type": "markdown",
      "source": [
        "## 🌐 Step 5: Access Jetson Nano Remotely\n",
        "\n",
        "1. Install NoMachine on your Windows/macOS/Linux PC: https://www.nomachine.com/download\n",
        "2. Open NoMachine and connect to the IP address of your Jetson Nano\n",
        "3. Login with your Jetson Nano credentials\n",
        "4. You will see the XFCE desktop interface"
      ],
      "metadata": {
        "id": "cmXHX5a6PV22"
      }
    },
    {
      "cell_type": "markdown",
      "source": [
        "## ✅ Step 6: Verify NoMachine is Running"
      ],
      "metadata": {
        "id": "y2qldljXPZ93"
      }
    },
    {
      "cell_type": "code",
      "source": [
        "# Check the status of the NoMachine service\n",
        "sudo /usr/NX/bin/nxserver --status"
      ],
      "metadata": {
        "id": "hKwwBiqsPcgF"
      },
      "execution_count": null,
      "outputs": []
    },
    {
      "cell_type": "markdown",
      "source": [
        "# 🖥️ PC/Laptop Setup to Access Jetson Nano via NoMachine\n",
        "\n",
        "Once Jetson Nano is configured as a NoMachine server, follow these steps on your **PC** (Windows, macOS, or Linux) to access it remotely.\n",
        "\n",
        "---\n",
        "\n",
        "## 🧩 Step 1: Install NoMachine on PC\n",
        "\n",
        "1. Go to: [https://www.nomachine.com/download](https://www.nomachine.com/download)\n",
        "2. Download the appropriate version for your OS.\n",
        "3. Install and launch the NoMachine application.\n",
        "\n",
        "---\n",
        "\n",
        "## 🔗 Step 2: Connect to Jetson Nano\n",
        "\n",
        "1. Open **NoMachine** on your PC.\n",
        "2. Click on **\"Add\"** to create a new connection.\n",
        "3. Enter the **Jetson Nano’s IP address**.\n",
        "\n",
        "   - You can find it on Jetson Nano by running: `ip a`\n",
        "   - It might look like `192.168.1.42`\n",
        "\n",
        "4. Use the same **username and password** as your Jetson Nano login.\n",
        "5. Choose the **default** connection options unless you're customizing.\n",
        "6. Click **Connect**.\n",
        "\n",
        "---\n",
        "\n",
        "## 🖼️ Step 3: Start a Remote Desktop Session\n",
        "\n",
        "Once connected:\n",
        "\n",
        "- You will see the Jetson Nano desktop (XFCE).\n",
        "- You can now control Jetson Nano remotely as if sitting in front of it.\n",
        "- The session supports mouse, keyboard, and clipboard sharing.\n",
        "\n",
        "> 💡 If you only see a black screen or get a connection error:\n",
        "> - Make sure Jetson Nano is powered on and connected to the network.\n",
        "> - Reboot Jetson Nano if needed: `sudo reboot`\n",
        "> - Make sure NoMachine service is active: `sudo /usr/NX/bin/nxserver --status`\n",
        "\n",
        "You now have full remote desktop access to Jetson Nano from your PC using NoMachine!\n"
      ],
      "metadata": {
        "id": "flAZO0gRSBzx"
      }
    }
  ]
}