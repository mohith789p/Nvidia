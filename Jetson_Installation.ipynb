{
  "nbformat": 4,
  "nbformat_minor": 0,
  "metadata": {
    "colab": {
      "provenance": [],
      "authorship_tag": "ABX9TyOoMqAwM3Rihu0JAV646GWG",
      "include_colab_link": true
    },
    "kernelspec": {
      "name": "python3",
      "display_name": "Python 3"
    },
    "language_info": {
      "name": "python"
    }
  },
  "cells": [
    {
      "cell_type": "markdown",
      "metadata": {
        "id": "view-in-github",
        "colab_type": "text"
      },
      "source": [
        "<a href=\"https://colab.research.google.com/github/mohith789p/Nvidia/blob/main/Jetson_Installation.ipynb\" target=\"_parent\"><img src=\"https://colab.research.google.com/assets/colab-badge.svg\" alt=\"Open In Colab\"/></a>"
      ]
    },
    {
      "cell_type": "markdown",
      "source": [
        "## 🔹 Step 1: Format the SD Card\n",
        "\n",
        "1. Download and install **SD Memory Card Formatter**  \n",
        "   👉 [Download here](https://www.sdcard.org/downloads/formatter/)\n",
        "\n",
        "   - After navigating to the link, scroll to the bottom of the page.\n",
        "   - Click the **\"Accept\"** button under the license agreement.\n",
        "   - The download will begin automatically.\n",
        "\n",
        "2. Insert the microSD card into your computer’s card reader.\n",
        "\n",
        "3. Open **SD Memory Card Formatter**:\n",
        "   - Select the correct SD card drive from the dropdown.\n",
        "   - Choose **Quick Format** or **Overwrite Format**.\n",
        "   - Click **Format** and wait until the process completes.\n",
        "\n",
        "<img src=\"https://drive.google.com/uc?id=1mHbCiAV6h_y-fN4F0T7ZAU-NF8sN2DSb\" width=\"600\">\n",
        "\n",
        "⚠️ Make sure you back up any important data before formatting!\n"
      ],
      "metadata": {
        "id": "Pd70zFeHCDHV"
      }
    },
    {
      "cell_type": "markdown",
      "source": [
        "## 🔹 Step 2: Download the Jetson Nano OS Image\n",
        "\n",
        "1. Click the link below to **directly download** the official Jetson Nano SD Card Image as a `.zip` file:  \n",
        "   👉 [Download Jetson Nano SD Card Image](https://developer.nvidia.com/jetson-nano-sd-card-image)\n",
        "\n",
        "2. The download will start automatically.\n",
        "\n",
        "> 💡 You do **not** need to extract the file — you can flash the `.zip` file directly in the next step using Balena Etcher.\n",
        "\n"
      ],
      "metadata": {
        "id": "g5ACs851IzUx"
      }
    },
    {
      "cell_type": "markdown",
      "source": [
        "## 🔹 Step 3: Flash the OS Image using Balena Etcher\n",
        "\n",
        "1. Download and install **Balena Etcher**:  \n",
        "   👉 [https://www.balena.io/etcher/](https://www.balena.io/etcher/)\n",
        "\n",
        "   - Scroll down and choose the version for your operating system (Windows/macOS/Linux).\n",
        "   - Download and install the application.\n",
        "\n",
        "2. Launch **Etcher**.\n",
        "\n",
        "3. Click **\"Flash from file\"** and select the Jetson Nano `.img` file you downloaded earlier.\n",
        "\n",
        "4. Insert the **microSD card** into your computer and select it under **\"Select target\"**.\n",
        "\n",
        "5. Click **\"Flash!\"** to begin writing the image to the SD card.\n",
        "\n",
        "<img src=\"https://drive.google.com/uc?id=1BucgLnUQVbwLfEKKLHMnb9hWPB84BUgI\" width=\"500\">\n",
        "\n",
        "6. Wait for the flashing process to complete.\n",
        "\n",
        "7. After it's done, **safely eject the SD card** from your computer.\n",
        "\n",
        "> 💡 Etcher is simple and reliable. It handles decompression automatically if you give it a `.zip` or `.img.xz` file.\n"
      ],
      "metadata": {
        "id": "YiHe7L6TIUwl"
      }
    },
    {
      "cell_type": "markdown",
      "source": [
        "## 🔹 Step 4: Set Up and Boot the Jetson Nano\n",
        "\n",
        "1. Insert the **flashed microSD card** into the microSD card slot on the underside of the Jetson Nano board.\n",
        "\n",
        "2. Connect the following peripherals to the Jetson Nano:\n",
        "   - ✅ USB keyboard and mouse  \n",
        "   - ✅ HDMI or DP monitor  \n",
        "   - ✅ Micro-USB cable (for power if using 5V/2A) or barrel jack (for 5V/4A supply)  \n",
        "   - ✅ Ethernet cable for internet access (optional)\n",
        "\n",
        "3. Power it on:\n",
        "   - If using micro-USB, just plug it in — the board will boot automatically.  \n",
        "   - If using the barrel jack, place the **J48 jumper** (to enable barrel power) and then plug in the adapter.\n",
        "\n",
        "4. The Jetson Nano will boot into its **initial setup wizard**.\n",
        "\n",
        "5. Follow the on-screen instructions as shown below:\n",
        "\n",
        "---\n",
        "\n",
        "## 🔹 Jetson Nano First Boot – Interface Walkthrough\n",
        "\n",
        "### 🖼️ Step 1: Language Selection  \n",
        "The first screen prompts you to select your preferred language.\n",
        "\n",
        "<img src=\"https://drive.google.com/uc?id=1pvvYe-jpHE-EmEaCCZ4I468ZpvEELPiO\" width=\"600\">\n",
        "\n",
        "---\n",
        "\n",
        "### 🖼️ Step 2: Location Selection  \n",
        "Select your country and region to set time zone and locale.\n",
        "\n",
        "<img src=\"https://drive.google.com/uc?id=1AQ_iLQeDfUO44CrtD8jK9-hQWZXNxujB\" width=\"600\">\n",
        "\n",
        "---\n",
        "\n",
        "### 🖼️ Step 3: System Configuration  \n",
        "Set your username and password. This account will be used to log in.\n",
        "\n",
        "<img src=\"https://drive.google.com/uc?id=1Nq6dE373MYtM6kxWK06kmY6WnYIGPM5X\" width=\"600\">\n",
        "\n",
        "---\n",
        "\n",
        "### 🖼️ Step 4: Apply Changes  \n",
        "Review your configuration and apply the changes.\n",
        "\n",
        "<img src=\"https://drive.google.com/uc?id=1_FmfKBred05UHmG4fnspszTtB3FoYivX\" width=\"600\">\n",
        "\n",
        "---\n",
        "\n",
        "### 🖼️ Step 5: First Login – Jetson Nano Desktop  \n",
        "After setup, you’ll be taken to the Jetson Nano Ubuntu desktop environment.\n",
        "\n",
        "<img src=\"https://drive.google.com/uc?id=1ugn2_KqWnjLH8YzlbDsuWJcYNB8Ga35P\" width=\"600\">\n",
        "\n",
        "> 💡 The first boot might take a few minutes. Be patient!"
      ],
      "metadata": {
        "id": "XVzBCIskSU23"
      }
    }
  ]
}